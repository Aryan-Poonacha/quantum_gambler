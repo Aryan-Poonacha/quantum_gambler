{
 "cells": [
  {
   "cell_type": "code",
   "execution_count": 1,
   "metadata": {
    "scrolled": false
   },
   "outputs": [],
   "source": [
    "#setup:\n",
    "#same idea as quantum battleships, but with a deck of cards, and deal or no deal style, where you collapse and measure at the end the game\n",
    "#the sooner you take a chance and measure, the higher the reward\n",
    "#game setup: you first pick a card, any card randomly from a deck, face down. \n",
    "#then, you choose which ones to measure, one by one.\n",
    "#as they're revealed, you get to decide which card is yours whenever, and \n",
    "#initialise NO_OF_CARDS circuits, then get some kind of inputs\n",
    "\n",
    "from qiskit import BasicAer, IBMQ\n",
    "from qiskit import ClassicalRegister, QuantumRegister, QuantumCircuit\n",
    "from qiskit import execute\n",
    "from qiskit.providers.ibmq import least_busy\n",
    "from qiskit import IBMQ\n",
    "from qiskit_rng import Generator\n",
    "import getpass, random, numpy, math\n",
    "from qiskit.circuit.random import random_circuit\n",
    "import matplotlib.pyplot as plt\n",
    "\n",
    "import random\n",
    "\n",
    "#must be even; the number of cards used for the game. \n",
    "NO_OF_CARDS = 12\n",
    "MEASURE_LIST = [2, 3, 7, 6]"
   ]
  },
  {
   "cell_type": "code",
   "execution_count": 2,
   "metadata": {},
   "outputs": [
    {
     "data": {
      "text/plain": [
       "{'000011001000': 61,\n",
       " '000000000000': 70,\n",
       " '000001001100': 71,\n",
       " '000010001000': 66,\n",
       " '000000001000': 63,\n",
       " '000001001000': 69,\n",
       " '000000000100': 62,\n",
       " '000001000000': 62,\n",
       " '000010000100': 72,\n",
       " '000001000100': 60,\n",
       " '000011001100': 60,\n",
       " '000000001100': 60,\n",
       " '000010001100': 60,\n",
       " '000011000100': 58,\n",
       " '000011000000': 66,\n",
       " '000010000000': 64}"
      ]
     },
     "execution_count": 2,
     "metadata": {},
     "output_type": "execute_result"
    }
   ],
   "source": [
    "def create_entangled_pairs_circuit(qbits_count, measure_list):\n",
    "    qc = QuantumCircuit(QuantumRegister(NO_OF_CARDS), ClassicalRegister(NO_OF_CARDS))\n",
    "    \n",
    "    nos = []\n",
    "    for i in range(qbits_count):\n",
    "        qc.h(i)\n",
    "        nos.append(i)\n",
    "\n",
    "    #randomly entangles pairs of qubits\n",
    "    while(nos):\n",
    "        first = nos.pop(random.randint(0,len(nos)-1))\n",
    "        second = nos.pop(random.randint(0,len(nos)-1))\n",
    "        qc.cx(first, second)\n",
    "\n",
    "\n",
    "    for i in measure_list:\n",
    "        qc.measure(i,i)\n",
    "    return qc\n",
    "\n",
    "qc = create_entangled_pairs_circuit(NO_OF_CARDS, MEASURE_LIST)\n",
    "qc.draw()\n",
    "\n",
    "shots = 1024\n",
    "\n",
    "job = execute(qc, backend=BasicAer.get_backend('qasm_simulator'), shots=shots)\n",
    "job.result().get_counts(qc)"
   ]
  },
  {
   "cell_type": "code",
   "execution_count": 3,
   "metadata": {},
   "outputs": [],
   "source": [
    "def custom_random_circuit(qubits_count, measure_list):\n",
    "    circ = random_circuit(qubits_count, qubits_count)\n",
    "    return circ\n",
    "    \n",
    "qc2 = custom_random_circuit(NO_OF_CARDS, MEASURE_LIST)\n",
    "qc2.draw()\n",
    "shots = 1024\n",
    "\n",
    "#job = execute(qc, backend=BasicAer.get_backend('qasm_simulator'), shots=shots)\n",
    "#job.result().get_counts(qc)"
   ]
  },
  {
   "cell_type": "code",
   "execution_count": 10,
   "metadata": {},
   "outputs": [
    {
     "name": "stdout",
     "output_type": "stream",
     "text": [
      "101101101011\n"
     ]
    }
   ],
   "source": [
    "circ = random_circuit(NO_OF_CARDS, NO_OF_CARDS, measure = True)\n",
    "circ.draw(output='mpl')\n",
    "\n",
    "job = execute(circ, backend=BasicAer.get_backend('qasm_simulator'), shots=shots)\n",
    "results = job.result().get_counts(circ)\n",
    "print(max(results, key=results.get))"
   ]
  },
  {
   "cell_type": "code",
   "execution_count": null,
   "metadata": {},
   "outputs": [],
   "source": [
    "#trying qiskit-rng library\n",
    "IBMQ.load_account()\n",
    "rng_provider = IBMQ.get_provider(hub='ibm-q', group='open', project='main')\n",
    "backend = rng_provider.backend.ibmq_santiago\n",
    "\n",
    "generator = Generator(backend=backend)\n",
    "output = generator.sample(num_raw_bits=32).block_until_ready()\n",
    "print(output.mermin_correlator)\n",
    "\n",
    "random_bits = output.extract()"
   ]
  }
 ],
 "metadata": {
  "kernelspec": {
   "display_name": "Python 3 (ipykernel)",
   "language": "python",
   "name": "python3"
  },
  "language_info": {
   "codemirror_mode": {
    "name": "ipython",
    "version": 3
   },
   "file_extension": ".py",
   "mimetype": "text/x-python",
   "name": "python",
   "nbconvert_exporter": "python",
   "pygments_lexer": "ipython3",
   "version": "3.8.11"
  }
 },
 "nbformat": 4,
 "nbformat_minor": 4
}
