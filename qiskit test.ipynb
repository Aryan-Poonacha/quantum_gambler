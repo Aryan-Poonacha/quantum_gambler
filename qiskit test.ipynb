{
 "cells": [
  {
   "cell_type": "code",
   "execution_count": 34,
   "metadata": {
    "scrolled": false
   },
   "outputs": [
    {
     "name": "stdout",
     "output_type": "stream",
     "text": [
      "9 6\n",
      "5 0\n",
      "10 11\n",
      "4 1\n",
      "2 8\n",
      "3 7\n",
      "[]\n"
     ]
    },
    {
     "data": {
      "text/plain": [
       "{'000001000000': 61,\n",
       " '000001000100': 58,\n",
       " '000011001000': 68,\n",
       " '000011000000': 58,\n",
       " '000010001000': 64,\n",
       " '000000001000': 60,\n",
       " '000000001100': 71,\n",
       " '000010000000': 71,\n",
       " '000011000100': 68,\n",
       " '000000000000': 56,\n",
       " '000010000100': 66,\n",
       " '000010001100': 65,\n",
       " '000011001100': 58,\n",
       " '000000000100': 66,\n",
       " '000001001100': 57,\n",
       " '000001001000': 77}"
      ]
     },
     "execution_count": 34,
     "metadata": {},
     "output_type": "execute_result"
    }
   ],
   "source": [
    "#setup:\n",
    "#same idea as quantum battleships, but with a deck of cards, and deal or no deal style, where you collapse and measure at the end the game\n",
    "#the sooner you take a chance and measure, the higher the reward\n",
    "#game setup: you first pick a card, any card randomly from a deck, face down. \n",
    "#then, you choose \n",
    "#initialise NO_OF_CARDS circuits, then get some kind of inputs\n",
    "\n",
    "from qiskit import BasicAer, IBMQ\n",
    "from qiskit import ClassicalRegister, QuantumRegister, QuantumCircuit\n",
    "from qiskit import execute\n",
    "from qiskit.providers.ibmq import least_busy\n",
    "import getpass, random, numpy, math\n",
    "\n",
    "import random\n",
    "\n",
    "#must be even; the number of cards used for the game. \n",
    "NO_OF_CARDS = 12\n",
    "MEASURE_LIST = [2, 3, 7, 6]\n",
    "\n",
    "qc = QuantumCircuit(QuantumRegister(NO_OF_CARDS), ClassicalRegister(NO_OF_CARDS))\n",
    "\n",
    "\n",
    "nos = []\n",
    "for i in range(NO_OF_CARDS):\n",
    "    qc.h(i)\n",
    "    nos.append(i)\n",
    "\n",
    "#randomly entangles pairs of qubits\n",
    "while(nos):\n",
    "    first = nos.pop(random.randint(0,len(nos)-1))\n",
    "    second = nos.pop(random.randint(0,len(nos)-1))\n",
    "    print(str(first), str(second))\n",
    "    qc.cx(first, second)\n",
    "\n",
    "\n",
    "for i in MEASURE_LIST:\n",
    "    qc.measure(i,i)\n",
    "\n",
    "print(nos)\n",
    "qc.draw()\n",
    "\n",
    "\n",
    "\n",
    "shots = 1024\n",
    "\n",
    "job = execute(qc, backend=BasicAer.get_backend('qasm_simulator'), shots=shots)\n",
    "job.result().get_counts(qc)"
   ]
  },
  {
   "cell_type": "code",
   "execution_count": null,
   "metadata": {},
   "outputs": [],
   "source": []
  },
  {
   "cell_type": "code",
   "execution_count": null,
   "metadata": {},
   "outputs": [],
   "source": []
  }
 ],
 "metadata": {
  "kernelspec": {
   "display_name": "Python 3",
   "language": "python",
   "name": "python3"
  },
  "language_info": {
   "codemirror_mode": {
    "name": "ipython",
    "version": 3
   },
   "file_extension": ".py",
   "mimetype": "text/x-python",
   "name": "python",
   "nbconvert_exporter": "python",
   "pygments_lexer": "ipython3",
   "version": "3.7.7"
  }
 },
 "nbformat": 4,
 "nbformat_minor": 4
}
